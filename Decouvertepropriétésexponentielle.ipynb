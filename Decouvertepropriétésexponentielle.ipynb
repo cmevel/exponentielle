{
 "cells": [
  {
   "cell_type": "markdown",
   "metadata": {},
   "source": [
    "# Découvrir des propriétés de la fonction exponentielle notée exp"
   ]
  },
  {
   "cell_type": "markdown",
   "metadata": {},
   "source": [
    "On étudie l'évolution d'une colonie de bactéries dans un milieu renouvelé. Le nombre de bactéries, en centaine, en fonction du temps $t$, en $h$, est modélisé par la fonction $N$ définie sur l'intervalle $[0;+\\infty[$ par :<br/>\n",
    "$\\qquad N(t)=exp(t)$ (fonction exponentielle).<br/>\n",
    "1°) On vous fournit le programme ci-dessous. \n",
    "* Exécuter-le.\n",
    "* À quoi sert-il ?\n"
   ]
  },
  {
   "cell_type": "code",
   "execution_count": 35,
   "metadata": {},
   "outputs": [
    {
     "name": "stdout",
     "output_type": "stream",
     "text": [
      "[1.0, 2.718, 7.389, 20.086, 54.598, 148.413, 403.429, 1096.633]\n"
     ]
    }
   ],
   "source": [
    "from math import *\n",
    "\n",
    "def exponentielle():\n",
    "    liste=[]                 # Création d'une liste vide\n",
    "    for i in range(8):\n",
    "        liste.append(round(exp(i),3))  #round(f,3) arrondi à 0,001 près\n",
    "    return (liste)\n",
    "\n",
    "print(exponentielle())"
   ]
  },
  {
   "cell_type": "markdown",
   "metadata": {},
   "source": [
    "2°) À l'aide des résultats précédents, faire les calculs suivants:\n",
    "* $N(2) \\times N(3)$\n",
    "* $N(3) \\times N(4)$\n",
    "* $N(1) \\times N(5)$\n",
    "* Que remarquez-vous en comparant les résultats au tableau?\n",
    "* Conjecturer une formule donnant le produit $exp(x) \\times exp(y)$ où $x$ et $y$ sont des nombres réels."
   ]
  },
  {
   "cell_type": "markdown",
   "metadata": {},
   "source": [
    "3°) On souhaite tester la propriété conjecturée pour les valeurs entières $t$ appartenant à l'intervalle $[0;7]$ . On établit alors le programme. \n",
    "* Que font les lignes 7,8 et 9 ?\n",
    "* À quoi sert la ligne 10 ?\n",
    "* Quel est le rôle de ce programme ?"
   ]
  },
  {
   "cell_type": "code",
   "execution_count": 31,
   "metadata": {},
   "outputs": [
    {
     "name": "stdout",
     "output_type": "stream",
     "text": [
      "6\n"
     ]
    }
   ],
   "source": [
    "from math import *\n",
    "from random import randint\n",
    "\n",
    "def produit():\n",
    "    compteur=0\n",
    "    for k in range(8):\n",
    "        i=randint(0,8)\n",
    "        j=randint(0,8)\n",
    "        resultat=exp(i)*exp(j)\n",
    "        if resultat==exp(i+j):\n",
    "            compteur+=1\n",
    "    return (compteur)\n",
    "    \n",
    "print (produit())"
   ]
  },
  {
   "cell_type": "markdown",
   "metadata": {},
   "source": [
    "* Pourquoi celui-ci ne nous rend pas 8 à chaque fois qu'on l'exécute?"
   ]
  },
  {
   "cell_type": "code",
   "execution_count": 34,
   "metadata": {},
   "outputs": [
    {
     "name": "stdout",
     "output_type": "stream",
     "text": [
      "100\n"
     ]
    }
   ],
   "source": [
    "from math import *\n",
    "from random import randint\n",
    "\n",
    "def produit(n):\n",
    "    epsilon=0.001\n",
    "    compteur=0\n",
    "    for k in range(n):\n",
    "        i=randint(0,8)\n",
    "        j=randint(0,8)\n",
    "        resultat=exp(i)*exp(j)\n",
    "        if resultat-exp(i+j)<epsilon:\n",
    "            compteur+=1\n",
    "    return (compteur)\n",
    "    \n",
    "print (produit(100))"
   ]
  },
  {
   "cell_type": "markdown",
   "metadata": {},
   "source": [
    "* Pourquoi cette modification ligne 11 est-elle fondamentale en informatique ?\n",
    "* Que change le passage de la fonction produit() en fonction produit(n)?"
   ]
  },
  {
   "cell_type": "markdown",
   "metadata": {},
   "source": [
    "4°) À l'aide des résultats de la question 1, faire les calculs suivants:\n",
    "* $\\frac{N(7)}{N(1)}$\n",
    "* $\\frac{N(5)}{N(4)}$\n",
    "* $\\frac{N(6)}{N(2)}$\n",
    "* Que remarquez-vous en comparant les résultats au tableau?\n",
    "* Conjecturer une formule donnant le produit $\\frac{exp(x)}{exp(y)}$ où $x$ et $y$ sont des nombres réels."
   ]
  },
  {
   "cell_type": "markdown",
   "metadata": {},
   "source": [
    "5°) Créer un programme permettant de tester la deuxième propriété pour les valeurs entières $t$ appartenant à l'intervalle $[0;7]$ une centaine de fois."
   ]
  },
  {
   "cell_type": "code",
   "execution_count": null,
   "metadata": {},
   "outputs": [],
   "source": [
    "#Programme Python à écrire ici"
   ]
  }
 ],
 "metadata": {
  "kernelspec": {
   "display_name": "Python 3",
   "language": "python",
   "name": "python3"
  },
  "language_info": {
   "codemirror_mode": {
    "name": "ipython",
    "version": 3
   },
   "file_extension": ".py",
   "mimetype": "text/x-python",
   "name": "python",
   "nbconvert_exporter": "python",
   "pygments_lexer": "ipython3",
   "version": "3.7.6"
  }
 },
 "nbformat": 4,
 "nbformat_minor": 4
}
